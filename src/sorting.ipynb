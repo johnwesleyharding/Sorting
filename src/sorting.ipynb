{
 "cells": [
  {
   "cell_type": "code",
   "execution_count": 3,
   "metadata": {},
   "outputs": [],
   "source": [
    "def selection_sort(arr):\n",
    "    \n",
    "    for i in range(len(arr) - 1):\n",
    "        \n",
    "        s = i\n",
    "        \n",
    "        for j in range(i + 1, len(arr)):\n",
    "            \n",
    "            if arr[j] < arr[s]:\n",
    "                \n",
    "                s = j\n",
    "                \n",
    "        if s != i:\n",
    "            \n",
    "            hold = arr[i]\n",
    "            arr[i] = arr[s]\n",
    "            arr[s] = hold\n",
    "    \n",
    "    return arr"
   ]
  },
  {
   "cell_type": "code",
   "execution_count": 4,
   "metadata": {},
   "outputs": [
    {
     "data": {
      "text/plain": [
       "[0, 1, 2, 3, 4, 5, 6, 7, 8, 9]"
      ]
     },
     "execution_count": 4,
     "metadata": {},
     "output_type": "execute_result"
    }
   ],
   "source": [
    "arr = [1, 5, 8, 4, 2, 9, 6, 0, 3, 7]\n",
    "selection_sort(arr)"
   ]
  },
  {
   "cell_type": "code",
   "execution_count": 6,
   "metadata": {},
   "outputs": [],
   "source": [
    "def bubble_sort(arr):\n",
    "    \n",
    "    while True:\n",
    "        \n",
    "        flag = 0\n",
    "        \n",
    "        for i in range(len(arr) - 1):\n",
    "            \n",
    "            if arr[i] > arr[i + 1]:\n",
    "                \n",
    "                hold = arr[i]\n",
    "                arr[i] = arr[i + 1]\n",
    "                arr[i + 1] = hold\n",
    "                flag = 1\n",
    "                \n",
    "        if flag == 0:\n",
    "            \n",
    "            return arr"
   ]
  },
  {
   "cell_type": "code",
   "execution_count": 7,
   "metadata": {},
   "outputs": [
    {
     "data": {
      "text/plain": [
       "[0, 1, 2, 3, 4, 5, 6, 7, 8, 9]"
      ]
     },
     "execution_count": 7,
     "metadata": {},
     "output_type": "execute_result"
    }
   ],
   "source": [
    "arr = [1, 5, 8, 4, 2, 9, 6, 0, 3, 7]\n",
    "bubble_sort(arr)"
   ]
  },
  {
   "cell_type": "code",
   "execution_count": null,
   "metadata": {},
   "outputs": [],
   "source": [
    "def merge(arrA, arrB):\n",
    "    \n",
    "    merged = []\n",
    "    \n",
    "    while len(arrA) > 0 and len(arrB) > 0:\n",
    "        \n",
    "        if arrA[0] > arrB[0]:\n",
    "            \n",
    "            merged.append(arrB.pop(0))\n",
    "            \n",
    "        else:\n",
    "            \n",
    "            merged.append(arrA.pop(0))\n",
    "            \n",
    "    if len(arrA) > 0:\n",
    "        \n",
    "        for num in arrA:\n",
    "            \n",
    "            merged.append(num)\n",
    "        \n",
    "    else:\n",
    "        \n",
    "        for num in arrB:\n",
    "            \n",
    "            merged.append(num)\n",
    "        \n",
    "    return merged"
   ]
  },
  {
   "cell_type": "code",
   "execution_count": null,
   "metadata": {},
   "outputs": [],
   "source": [
    "def merge_sort(arr):\n",
    "    \n",
    "    lng = len(arr)\n",
    "    \n",
    "    if lng > 1:\n",
    "        \n",
    "        m = lng // 2\n",
    "        arrA = arr[:m]\n",
    "        arrB = arr[m:]\n",
    "        \n",
    "        merged = merge(merge_sort(arrA), merge_sort(arrB))\n",
    "    \n",
    "        return merged\n",
    "    \n",
    "    return arr"
   ]
  },
  {
   "cell_type": "code",
   "execution_count": 53,
   "metadata": {},
   "outputs": [
    {
     "data": {
      "text/plain": [
       "[0, 1, 2, 3, 4, 5, 6, 7, 8, 9]"
      ]
     },
     "execution_count": 53,
     "metadata": {},
     "output_type": "execute_result"
    }
   ],
   "source": [
    "arr = [1, 5, 8, 4, 2, 9, 6, 0, 3, 7]\n",
    "merge_sort(arr)"
   ]
  },
  {
   "cell_type": "code",
   "execution_count": 54,
   "metadata": {},
   "outputs": [
    {
     "data": {
      "text/plain": [
       "True"
      ]
     },
     "execution_count": 54,
     "metadata": {},
     "output_type": "execute_result"
    }
   ],
   "source": [
    "arr = [1, 10, 11, 100, 50, 100, 1, 2, 3, 4, 5, 6, 7, 8, 9, 10, 11, 12, 13, 14, 15, 16, 17, 18]\n",
    "selection_sort(arr) == bubble_sort(arr) == merge_sort(arr)"
   ]
  },
  {
   "cell_type": "code",
   "execution_count": 39,
   "metadata": {},
   "outputs": [
    {
     "data": {
      "text/plain": [
       "[2]"
      ]
     },
     "execution_count": 39,
     "metadata": {},
     "output_type": "execute_result"
    }
   ],
   "source": [
    "z = [1, 2]\n",
    "z.pop(0)\n"
   ]
  },
  {
   "cell_type": "code",
   "execution_count": 42,
   "metadata": {},
   "outputs": [],
   "source": [
    "x = [0, 2, 4]\n",
    "c = [1, 2, 3]"
   ]
  },
  {
   "cell_type": "code",
   "execution_count": 43,
   "metadata": {},
   "outputs": [],
   "source": [
    "def merge(arrA, arrB):\n",
    "    \n",
    "    merged = []\n",
    "    \n",
    "    while len(arrA) > 0 and len(arrB) > 0:\n",
    "        \n",
    "        if arrA[0] > arrB[0]:\n",
    "            \n",
    "            merged.append(arrB.pop(0))\n",
    "            \n",
    "        else:\n",
    "            \n",
    "            merged.append(arrA.pop(0))\n",
    "            \n",
    "    if len(arrA) > 0:\n",
    "        \n",
    "        for num in arrA:\n",
    "            \n",
    "            merged.append(num)\n",
    "        \n",
    "    else:\n",
    "        \n",
    "        for num in arrB:\n",
    "            \n",
    "            merged.append(num)\n",
    "        \n",
    "    return merged"
   ]
  },
  {
   "cell_type": "code",
   "execution_count": 44,
   "metadata": {},
   "outputs": [
    {
     "data": {
      "text/plain": [
       "[0, 1, 2, 2, 3, 4]"
      ]
     },
     "execution_count": 44,
     "metadata": {},
     "output_type": "execute_result"
    }
   ],
   "source": [
    "merge(x, c)"
   ]
  },
  {
   "cell_type": "code",
   "execution_count": 51,
   "metadata": {},
   "outputs": [],
   "source": [
    "def merge_sort(arr):\n",
    "    \n",
    "    lng = len(arr)\n",
    "    \n",
    "    if lng > 1:\n",
    "        \n",
    "        m = lng // 2\n",
    "        arrA = arr[:m]\n",
    "        arrB = arr[m:]\n",
    "        \n",
    "        merged = merge(merge_sort(arrA), merge_sort(arrB))\n",
    "    \n",
    "        return merged\n",
    "    \n",
    "    return arr"
   ]
  },
  {
   "cell_type": "code",
   "execution_count": 52,
   "metadata": {},
   "outputs": [
    {
     "data": {
      "text/plain": [
       "[1,\n",
       " 1,\n",
       " 2,\n",
       " 3,\n",
       " 4,\n",
       " 5,\n",
       " 6,\n",
       " 7,\n",
       " 8,\n",
       " 9,\n",
       " 10,\n",
       " 10,\n",
       " 11,\n",
       " 11,\n",
       " 12,\n",
       " 13,\n",
       " 14,\n",
       " 15,\n",
       " 16,\n",
       " 17,\n",
       " 18,\n",
       " 50,\n",
       " 100,\n",
       " 100]"
      ]
     },
     "execution_count": 52,
     "metadata": {},
     "output_type": "execute_result"
    }
   ],
   "source": [
    "merge_sort(arr)"
   ]
  },
  {
   "cell_type": "code",
   "execution_count": null,
   "metadata": {},
   "outputs": [],
   "source": []
  }
 ],
 "metadata": {
  "kernelspec": {
   "display_name": "Python 3",
   "language": "python",
   "name": "python3"
  },
  "language_info": {
   "codemirror_mode": {
    "name": "ipython",
    "version": 3
   },
   "file_extension": ".py",
   "mimetype": "text/x-python",
   "name": "python",
   "nbconvert_exporter": "python",
   "pygments_lexer": "ipython3",
   "version": "3.7.4"
  }
 },
 "nbformat": 4,
 "nbformat_minor": 4
}
