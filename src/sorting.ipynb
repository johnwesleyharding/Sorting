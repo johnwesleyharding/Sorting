{
 "cells": [
  {
   "cell_type": "code",
   "execution_count": null,
   "metadata": {},
   "outputs": [],
   "source": [
    "def selection_sort(arr):\n",
    "    \n",
    "    for i in range(len(arr) - 1):\n",
    "        \n",
    "        s = i\n",
    "        \n",
    "        for j in range(i + 1, len(arr)):\n",
    "            \n",
    "            if arr[j] < arr[s]:\n",
    "                \n",
    "                s = j\n",
    "                \n",
    "        if s != i:\n",
    "            \n",
    "            hold = arr[i]\n",
    "            arr[i] = arr[s]\n",
    "            arr[s] = hold\n",
    "    \n",
    "    return arr"
   ]
  },
  {
   "cell_type": "code",
   "execution_count": 2,
   "metadata": {},
   "outputs": [
    {
     "data": {
      "text/plain": [
       "[0, 1, 2, 3, 4, 5, 6, 7, 8, 9]"
      ]
     },
     "execution_count": 2,
     "metadata": {},
     "output_type": "execute_result"
    }
   ],
   "source": [
    "arr = [1, 5, 8, 4, 2, 9, 6, 0, 3, 7]\n",
    "selection_sort(arr)"
   ]
  },
  {
   "cell_type": "code",
   "execution_count": 3,
   "metadata": {},
   "outputs": [],
   "source": [
    "def bubble_sort(arr):\n",
    "    \n",
    "    while True:\n",
    "        \n",
    "        flag = 0\n",
    "        \n",
    "        for i in range(len(arr) - 1):\n",
    "            \n",
    "            if arr[i] > arr[i + 1]:\n",
    "                \n",
    "                hold = arr[i]\n",
    "                arr[i] = arr[i + 1]\n",
    "                arr[i + 1] = hold\n",
    "                flag = 1\n",
    "                \n",
    "        if flag == 0:\n",
    "            \n",
    "            return arr"
   ]
  },
  {
   "cell_type": "code",
   "execution_count": 4,
   "metadata": {},
   "outputs": [
    {
     "data": {
      "text/plain": [
       "[0, 1, 2, 3, 4, 5, 6, 7, 8, 9]"
      ]
     },
     "execution_count": 4,
     "metadata": {},
     "output_type": "execute_result"
    }
   ],
   "source": [
    "bubble_sort(arr)"
   ]
  },
  {
   "cell_type": "code",
   "execution_count": 5,
   "metadata": {},
   "outputs": [],
   "source": [
    "def merge(arrA, arrB):\n",
    "    \n",
    "    merged = []\n",
    "    \n",
    "    while len(arrA) > 0 and len(arrB) > 0:\n",
    "        \n",
    "        if arrA[0] > arrB[0]:\n",
    "            \n",
    "            merged.append(arrB.pop(0))\n",
    "            \n",
    "        else:\n",
    "            \n",
    "            merged.append(arrA.pop(0))\n",
    "            \n",
    "    if len(arrA) > 0:\n",
    "        \n",
    "        for num in arrA:\n",
    "            \n",
    "            merged.append(num)\n",
    "        \n",
    "    else:\n",
    "        \n",
    "        for num in arrB:\n",
    "            \n",
    "            merged.append(num)\n",
    "        \n",
    "    return merged"
   ]
  },
  {
   "cell_type": "code",
   "execution_count": 6,
   "metadata": {},
   "outputs": [],
   "source": [
    "def merge_sort(arr):\n",
    "    \n",
    "    lng = len(arr)\n",
    "    \n",
    "    if lng > 1:\n",
    "        \n",
    "        m = lng // 2\n",
    "        arrA = arr[:m]\n",
    "        arrB = arr[m:]\n",
    "        \n",
    "        merged = merge(merge_sort(arrA), merge_sort(arrB))\n",
    "    \n",
    "        return merged\n",
    "    \n",
    "    return arr"
   ]
  },
  {
   "cell_type": "code",
   "execution_count": 7,
   "metadata": {},
   "outputs": [
    {
     "data": {
      "text/plain": [
       "[0, 1, 2, 3, 4, 5, 6, 7, 8, 9]"
      ]
     },
     "execution_count": 7,
     "metadata": {},
     "output_type": "execute_result"
    }
   ],
   "source": [
    "merge_sort(arr)"
   ]
  },
  {
   "cell_type": "code",
   "execution_count": 16,
   "metadata": {},
   "outputs": [],
   "source": [
    "def count_sort(arr, maximum = -1):\n",
    "    \n",
    "    minv = arr[0]\n",
    "    minc = 0\n",
    "    maxv = arr[0]\n",
    "    maxc = 0\n",
    "    \n",
    "    for i in range(len(arr)):\n",
    "        \n",
    "        if arr[i] < minv:\n",
    "            \n",
    "            minv, minc = arr[i], 1\n",
    "            \n",
    "        elif arr[i] > maxv:\n",
    "            \n",
    "            maxv, maxc = arr[i], 1\n",
    "            \n",
    "        elif arr[i] == minv:\n",
    "            \n",
    "            minc += 1\n",
    "            \n",
    "        elif arr[i] == maxv:\n",
    "            \n",
    "            maxc += 1\n",
    "            \n",
    "    if maxv != minv:\n",
    "        \n",
    "        if minc + maxc < len(arr):\n",
    "            \n",
    "            other = []\n",
    "            \n",
    "            for val in arr:\n",
    "                \n",
    "                if val != minv and val != maxv:\n",
    "                    \n",
    "                    other.append(val)\n",
    "                \n",
    "            return [minv] * minc + count_sort(other) + [maxv] * maxc\n",
    "        \n",
    "        return [minv] * minc + [maxv] * maxc\n",
    "\n",
    "    return arr"
   ]
  },
  {
   "cell_type": "code",
   "execution_count": 9,
   "metadata": {},
   "outputs": [
    {
     "data": {
      "text/plain": [
       "[0, 1, 2, 3, 4, 5, 6, 7, 8, 9]"
      ]
     },
     "execution_count": 9,
     "metadata": {},
     "output_type": "execute_result"
    }
   ],
   "source": [
    "count_sort(arr)"
   ]
  },
  {
   "cell_type": "code",
   "execution_count": 17,
   "metadata": {},
   "outputs": [
    {
     "data": {
      "text/plain": [
       "True"
      ]
     },
     "execution_count": 17,
     "metadata": {},
     "output_type": "execute_result"
    }
   ],
   "source": [
    "arr = [1, 10, 11, 100, 50, 100, 1, 2, 3, 4, 5, 6, 7, 8, 9, 10, 11, 12, 13, 14, 15, 16, 17, 18]\n",
    "selection_sort(arr) == bubble_sort(arr) == merge_sort(arr) == count_sort(arr)"
   ]
  },
  {
   "cell_type": "code",
   "execution_count": 18,
   "metadata": {},
   "outputs": [
    {
     "data": {
      "text/plain": [
       "[1,\n",
       " 1,\n",
       " 2,\n",
       " 3,\n",
       " 4,\n",
       " 5,\n",
       " 6,\n",
       " 7,\n",
       " 8,\n",
       " 9,\n",
       " 10,\n",
       " 10,\n",
       " 11,\n",
       " 11,\n",
       " 12,\n",
       " 13,\n",
       " 14,\n",
       " 15,\n",
       " 16,\n",
       " 17,\n",
       " 18,\n",
       " 50,\n",
       " 100,\n",
       " 100]"
      ]
     },
     "execution_count": 18,
     "metadata": {},
     "output_type": "execute_result"
    }
   ],
   "source": [
    "count_sort(arr)"
   ]
  },
  {
   "cell_type": "code",
   "execution_count": 11,
   "metadata": {},
   "outputs": [],
   "source": [
    "def count_sort(arr, maximum = -1):\n",
    "    \n",
    "    lng = len(arr)\n",
    "    r = [0] * lng\n",
    "    count = 0\n",
    "    beg = 0\n",
    "    end = -1\n",
    "    \n",
    "    while count != lng:    \n",
    "        \n",
    "        lng2 = len(arr)\n",
    "        minv = arr[0]\n",
    "        minc = 0\n",
    "        maxv = arr[0]\n",
    "        maxc = 0\n",
    "        t = -1\n",
    "\n",
    "        for i in range(lng2):\n",
    "\n",
    "            if arr[i] < minv:\n",
    "\n",
    "                minv, minc = arr[i], 1\n",
    "\n",
    "            elif arr[i] > maxv:\n",
    "\n",
    "                maxv, maxc = arr[i], 1\n",
    "\n",
    "            elif arr[i] == minv:\n",
    "\n",
    "                minc += 1\n",
    "\n",
    "            elif arr[i] == maxv:\n",
    "\n",
    "                maxc += 1\n",
    "                \n",
    "        for i in range(lng2):\n",
    "            \n",
    "            if arr[t] == minv or arr[t] == maxv:\n",
    "                \n",
    "                count += 1\n",
    "                \n",
    "                if arr[t] == minv:\n",
    "                    \n",
    "                    r[beg] = arr.pop(t)\n",
    "                    beg += 1\n",
    "                    \n",
    "                else:\n",
    "                    \n",
    "                    r[end] = arr.pop(t)\n",
    "                    end -= 1\n",
    "            \n",
    "            else:\n",
    "                \n",
    "                t -= 1\n",
    "    \n",
    "    return r"
   ]
  },
  {
   "cell_type": "code",
   "execution_count": 12,
   "metadata": {},
   "outputs": [
    {
     "data": {
      "text/plain": [
       "[1,\n",
       " 1,\n",
       " 2,\n",
       " 3,\n",
       " 4,\n",
       " 5,\n",
       " 6,\n",
       " 7,\n",
       " 8,\n",
       " 9,\n",
       " 10,\n",
       " 10,\n",
       " 11,\n",
       " 11,\n",
       " 12,\n",
       " 13,\n",
       " 14,\n",
       " 15,\n",
       " 16,\n",
       " 17,\n",
       " 18,\n",
       " 50,\n",
       " 100,\n",
       " 100]"
      ]
     },
     "execution_count": 12,
     "metadata": {},
     "output_type": "execute_result"
    }
   ],
   "source": [
    "count_sort(arr)"
   ]
  },
  {
   "cell_type": "code",
   "execution_count": null,
   "metadata": {},
   "outputs": [],
   "source": []
  }
 ],
 "metadata": {
  "kernelspec": {
   "display_name": "Python 3",
   "language": "python",
   "name": "python3"
  },
  "language_info": {
   "codemirror_mode": {
    "name": "ipython",
    "version": 3
   },
   "file_extension": ".py",
   "mimetype": "text/x-python",
   "name": "python",
   "nbconvert_exporter": "python",
   "pygments_lexer": "ipython3",
   "version": "3.7.4"
  }
 },
 "nbformat": 4,
 "nbformat_minor": 4
}
