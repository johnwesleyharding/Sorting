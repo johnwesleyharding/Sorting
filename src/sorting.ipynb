{
 "cells": [
  {
   "cell_type": "code",
   "execution_count": 3,
   "metadata": {},
   "outputs": [],
   "source": [
    "def selection_sort(arr):\n",
    "    \n",
    "    for i in range(len(arr) - 1):\n",
    "        \n",
    "        s = i\n",
    "        \n",
    "        for j in range(i + 1, len(arr)):\n",
    "            \n",
    "            if arr[j] < arr[s]:\n",
    "                \n",
    "                s = j\n",
    "                \n",
    "        if s != i:\n",
    "            \n",
    "            hold = arr[i]\n",
    "            arr[i] = arr[s]\n",
    "            arr[s] = hold\n",
    "    \n",
    "    return arr"
   ]
  },
  {
   "cell_type": "code",
   "execution_count": 4,
   "metadata": {},
   "outputs": [
    {
     "data": {
      "text/plain": [
       "[0, 1, 2, 3, 4, 5, 6, 7, 8, 9]"
      ]
     },
     "execution_count": 4,
     "metadata": {},
     "output_type": "execute_result"
    }
   ],
   "source": [
    "arr = [1, 5, 8, 4, 2, 9, 6, 0, 3, 7]\n",
    "selection_sort(arr)"
   ]
  },
  {
   "cell_type": "code",
   "execution_count": 6,
   "metadata": {},
   "outputs": [],
   "source": [
    "def bubble_sort(arr):\n",
    "    \n",
    "    while True:\n",
    "        \n",
    "        flag = 0\n",
    "        \n",
    "        for i in range(len(arr) - 1):\n",
    "            \n",
    "            if arr[i] > arr[i + 1]:\n",
    "                \n",
    "                hold = arr[i]\n",
    "                arr[i] = arr[i + 1]\n",
    "                arr[i + 1] = hold\n",
    "                flag = 1\n",
    "                \n",
    "        if flag == 0:\n",
    "            \n",
    "            return arr"
   ]
  },
  {
   "cell_type": "code",
   "execution_count": 7,
   "metadata": {},
   "outputs": [
    {
     "data": {
      "text/plain": [
       "[0, 1, 2, 3, 4, 5, 6, 7, 8, 9]"
      ]
     },
     "execution_count": 7,
     "metadata": {},
     "output_type": "execute_result"
    }
   ],
   "source": [
    "arr = [1, 5, 8, 4, 2, 9, 6, 0, 3, 7]\n",
    "bubble_sort(arr)"
   ]
  },
  {
   "cell_type": "code",
   "execution_count": null,
   "metadata": {},
   "outputs": [],
   "source": []
  }
 ],
 "metadata": {
  "kernelspec": {
   "display_name": "Python 3",
   "language": "python",
   "name": "python3"
  },
  "language_info": {
   "codemirror_mode": {
    "name": "ipython",
    "version": 3
   },
   "file_extension": ".py",
   "mimetype": "text/x-python",
   "name": "python",
   "nbconvert_exporter": "python",
   "pygments_lexer": "ipython3",
   "version": "3.7.4"
  }
 },
 "nbformat": 4,
 "nbformat_minor": 4
}
